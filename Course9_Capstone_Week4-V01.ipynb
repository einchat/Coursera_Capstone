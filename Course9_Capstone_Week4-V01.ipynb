{
 "cells": [
  {
   "cell_type": "markdown",
   "metadata": {},
   "source": [
    "## Introduction/ Business Problem\n",
    "\n",
    "The owner of a Chinese restaurant chain is interested to open their first restaurant in Manhattan, New York. \n",
    "For this purpose he is seeking advice on locations of existing similar restaurants. \n",
    "In particular, he mentioned that he would like to know the top 10 location/ neighborhood where \n",
    "there are a number of Chinese (or similar) restaurant already existing. \n",
    "This will help him to further strategize on the location aspect.\n",
    "\n",
    "Hence here,\n",
    "\n",
    "### Target audience\n",
    "The owner of the Chinese restaurant chain \n",
    "### Problem statement\n",
    "To advise on current locations of Chinese (or similar) restaurants in Manhattan\n",
    "\n"
   ]
  },
  {
   "cell_type": "markdown",
   "metadata": {},
   "source": [
    "## Data Set to Address the Problem\n",
    "\n",
    "First we'll utilize the New York location data as available on the web (also in labs as part of the Capstone course). \n",
    "It contains the borough and neighborhood information of NY. \n",
    "This data should be first extracted into suitable DataFrames - containing Borough, Neighborhood, Latitude, Longitude.\n",
    "\n",
    "After that we'll focus on the data for Manhattan borough and neighborhoods within this borough. \n",
    "The relevant latitude and longitude data will help us to utilize Foursquare APIs. \n",
    "Foursquare API will provide us top N number of venues and their categories, latitude, longitude etc. \n",
    "Then we'll focus on categories and try to find out number of Chinese (or similar) restaurants in each neighborhoods. \n",
    "Additionally, we'll map the top 10 neighborhoods on Manhattan map for easy visualization.\n"
   ]
  },
  {
   "cell_type": "code",
   "execution_count": null,
   "metadata": {},
   "outputs": [],
   "source": []
  }
 ],
 "metadata": {
  "kernelspec": {
   "display_name": "Python 3",
   "language": "python",
   "name": "python3"
  },
  "language_info": {
   "codemirror_mode": {
    "name": "ipython",
    "version": 3
   },
   "file_extension": ".py",
   "mimetype": "text/x-python",
   "name": "python",
   "nbconvert_exporter": "python",
   "pygments_lexer": "ipython3",
   "version": "3.6.5"
  },
  "widgets": {
   "state": {},
   "version": "1.1.2"
  }
 },
 "nbformat": 4,
 "nbformat_minor": 2
}
